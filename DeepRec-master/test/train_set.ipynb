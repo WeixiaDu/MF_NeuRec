{
 "cells": [
  {
   "cell_type": "code",
   "execution_count": 1,
   "metadata": {},
   "outputs": [],
   "source": [
    "import matplotlib.pyplot as plt"
   ]
  },
  {
   "cell_type": "code",
   "execution_count": 2,
   "metadata": {},
   "outputs": [],
   "source": [
    "def get_min_rmse(path):\n",
    "# './train_size/res_ml100k_10.txt'\n",
    "    rmse_list = []\n",
    "    with open(path,'r') as f:\n",
    "        lines = f.readlines()\n",
    "        for line in lines:\n",
    "            rmse = float(line.split(';')[0].split('RMSE: ')[1])\n",
    "            rmse_list.append(rmse)\n",
    "        return min(rmse_list)"
   ]
  },
  {
   "cell_type": "code",
   "execution_count": 3,
   "metadata": {},
   "outputs": [
    {
     "data": {
      "text/plain": [
       "[0.996, 0.958, 0.941, 0.925, 0.913, 0.904, 0.896, 0.892, 0.879]"
      ]
     },
     "execution_count": 3,
     "metadata": {},
     "output_type": "execute_result"
    }
   ],
   "source": [
    "rmses = []\n",
    "for i in range(10,100,10):\n",
    "    path = './train_size/res_ml100k_'+str(i)+'.txt'\n",
    "#     print(path)\n",
    "    rmse = get_min_rmse(path)\n",
    "    rmses.append(rmse)\n",
    "rmses"
   ]
  },
  {
   "cell_type": "code",
   "execution_count": 11,
   "metadata": {},
   "outputs": [],
   "source": [
    "font = {\n",
    "    'family':'Times New Roman',\n",
    "    'weight':'normal',\n",
    "    'size':8\n",
    "}\n",
    "font1 = {\n",
    "\n",
    "    'weight':'normal',\n",
    "    'size':8\n",
    "}"
   ]
  },
  {
   "cell_type": "code",
   "execution_count": 18,
   "metadata": {},
   "outputs": [
    {
     "data": {
      "image/png": "[encoded data removed]",
      "text/plain": [
       "<Figure size 288x216 with 1 Axes>"
      ]
     },
     "metadata": {},
     "output_type": "display_data"
    }
   ],
   "source": [
    "from pylab import * \n",
    "# mpl.rcParams['font.sans-serif'] = ['FangSong'] #指定默认字体  font.sans-serif\n",
    "# mpl.rcParams['axes.unicode_minus'] = False #解决保存图像是负号'-'显示为方块的问题  \n",
    "\n",
    "from pylab import mpl, text\n",
    "from matplotlib.font_manager import FontProperties\n",
    "import numpy as np \n",
    "\n",
    "# windows下matplotlib显示中文一般有问题，需要专门进行设置才能正常显示\n",
    "# 下面是两种设置的方式，使用时的参数也略有区别，在此不具体介绍\n",
    "# 但需提前设置好，使得能够显示中文，否则中文字符位置显示为方框\n",
    "simsun = FontProperties(fname=r'C:\\Windows\\Fonts\\simsun.ttc', size=10) # 宋体\n",
    "roman = FontProperties(fname=r'C:\\Windows\\Fonts\\times.ttf', size=10) # Times new roman\n",
    "# mpl.rcParams['font.sans-serif'] = ['FangSong']\n",
    "fontcn = {'family': 'SimSun','size': 5} # 1pt = 4/3px\n",
    "fonten = {'family':'Times New Roman','size': 5}\n",
    "\n",
    "# plt.style.use('ggplot')\n",
    "plt.figure(figsize=(4, 3))\n",
    "plt.bar([0,1,2,3,4,5,6,7,8],rmses,width=0.2,alpha=0.8,color='orange')\n",
    "plt.yticks(fontsize=8)\n",
    "plt.ylim(0.85,1)\n",
    "\n",
    "plt.ylabel('RMSE',font)\n",
    "plt.xlabel('训练集所占百分比',font1)\n",
    "plt.xticks([0,1,2,3,4,5,6,7,8],('10','20','30','40','50','60','70','80','90'),fontsize=8)\n",
    "plt.savefig('./ml-100k_ts.png',dpi=300,bbox_inches = 'tight')\n",
    "plt.show()\n"
   ]
  }
 ],
 "metadata": {
  "kernelspec": {
   "display_name": "Python 3",
   "language": "python",
   "name": "python3"
  },
  "language_info": {
   "codemirror_mode": {
    "name": "ipython",
    "version": 3
   },
   "file_extension": ".py",
   "mimetype": "text/x-python",
   "name": "python",
   "nbconvert_exporter": "python",
   "pygments_lexer": "ipython3",
   "version": "3.6.5"
  }
 },
 "nbformat": 4,
 "nbformat_minor": 2
}
