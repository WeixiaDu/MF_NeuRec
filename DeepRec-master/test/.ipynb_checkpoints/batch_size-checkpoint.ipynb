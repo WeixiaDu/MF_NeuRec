{
 "cells": [
  {
   "cell_type": "code",
   "execution_count": 30,
   "metadata": {},
   "outputs": [],
   "source": [
    "import matplotlib.pyplot as plt\n",
    "from pylab import mpl, text\n",
    "from matplotlib.font_manager import FontProperties\n",
    "import numpy as np \n",
    "\n",
    "simsun = FontProperties(fname=r'C:\\Windows\\Fonts\\simsun.ttc', size=10) # 宋体\n",
    "roman = FontProperties(fname=r'C:\\Windows\\Fonts\\times.ttf', size=10) # Times new roman\n",
    "# mpl.rcParams['font.sans-serif'] = ['FangSong']\n",
    "fontcn = {'family': 'SimSun','size': 5} # 1pt = 4/3px\n",
    "fonten = {'family':'Times New Roman','size': 5}\n"
   ]
  },
  {
   "cell_type": "code",
   "execution_count": 31,
   "metadata": {},
   "outputs": [],
   "source": [
    "def getrmse_list(path):\n",
    "    rmse_list = []\n",
    "    with open(path,'r') as f:\n",
    "        for line in f.readlines():\n",
    "    #         print(line)\n",
    "            rmse = float(line.split(';')[0].split('RMSE: ')[1])\n",
    "    #         print(type(rmse))\n",
    "    #         print(rmse)\n",
    "            rmse_list.append(rmse)\n",
    "        return rmse_list[10:21:2]"
   ]
  },
  {
   "cell_type": "code",
   "execution_count": 32,
   "metadata": {},
   "outputs": [
    {
     "name": "stdout",
     "output_type": "stream",
     "text": [
      "1024\n",
      "./batch_size_0.5/res_ml100k_1024.txt\n",
      "[0.924, 0.92, 0.918, 0.916, 0.915, 0.914]\n",
      "512\n",
      "./batch_size_0.5/res_ml100k_512.txt\n",
      "[0.917, 0.915, 0.914, 0.913, 0.913, 0.913]\n",
      "256\n",
      "./batch_size_0.5/res_ml100k_256.txt\n",
      "[0.918, 0.917, 0.916, 0.915, 0.915, 0.915]\n",
      "128\n",
      "./batch_size_0.5/res_ml100k_128.txt\n",
      "[0.927, 0.926, 0.926, 0.925, 0.924, 0.924]\n"
     ]
    }
   ],
   "source": [
    "rmses = []\n",
    "for i in [1024,512,256,128]:\n",
    "    print(i)\n",
    "    rmse_l = []\n",
    "    path = './batch_size_0.5/res_ml100k_'+str(i)+'.txt'\n",
    "    print(path)\n",
    "    rmse_l = getrmse_list(path)\n",
    "    print(rmse_l)\n",
    "    rmses.append(rmse_l)"
   ]
  },
  {
   "cell_type": "code",
   "execution_count": 33,
   "metadata": {},
   "outputs": [
    {
     "data": {
      "image/png": "[encoded data removed]",
      "text/plain": [
       "<Figure size 216x162 with 1 Axes>"
      ]
     },
     "metadata": {},
     "output_type": "display_data"
    }
   ],
   "source": [
    "font2 = {'family': 'Times New Roman',\n",
    "         'weight': 'normal',\n",
    "         'size': 5,\n",
    "         }\n",
    "font1 = {\n",
    "         'weight': 'normal',\n",
    "         'size': 5,\n",
    "         }\n",
    "# def figure(p1):\n",
    "# plt.style.use('ggplot')\n",
    "fig = plt.figure(figsize=(3, 2.25))\n",
    "plt.plot(rmses[0],label='batch size=1024',marker='o',markersize=3)\n",
    "plt.plot(rmses[1],label='batch size=512',marker='*',markersize=3)\n",
    "plt.plot(rmses[2],label='batch size=256',marker='s',markersize=3)\n",
    "plt.plot(rmses[3],label='batch size=128',marker='v',markersize=3)\n",
    "# plt.plot(rmses[4],label='hidden_latent=50',marker='^',markersize=3)\n",
    "# plt.plot(rmses[5],label='hidden_latent=60',marker='+',markersize=3)\n",
    "# plt.plot(rmses[6],label='hidden_latent=70',marker='o',markersize=3,color='red')\n",
    "\n",
    "plt.xlabel(u'迭代次数',font1)\n",
    "plt.ylabel('RMSE',font2)\n",
    "plt.xticks([0,1,2,3,4,5], ('10','12','14','16','18','20'),fontsize=5)\n",
    "plt.yticks(fontsize=5)\n",
    "plt.ylim([0.91,0.93])\n",
    "plt.legend(prop=font2,loc='upper right')\n",
    "plt.savefig('100k_0.5_bs.png',dpi=300,bbox_inches = 'tight')\n",
    "plt.show()"
   ]
  },
  {
   "cell_type": "code",
   "execution_count": 7,
   "metadata": {},
   "outputs": [],
   "source": [
    "def getrmse_list(path):\n",
    "    rmse_list = []\n",
    "    with open(path,'r') as f:\n",
    "        for line in f.readlines():\n",
    "    #         print(line)\n",
    "            rmse = float(line.split(';')[0].split('RMSE: ')[1])\n",
    "    #         print(type(rmse))\n",
    "    #         print(rmse)\n",
    "            rmse_list.append(rmse)\n",
    "        return rmse_list[10:32:4]"
   ]
  },
  {
   "cell_type": "code",
   "execution_count": 8,
   "metadata": {},
   "outputs": [
    {
     "name": "stdout",
     "output_type": "stream",
     "text": [
      "1024\n",
      "./batch_size_0.9/res_ml100k_1024.txt\n",
      "[0.892, 0.886, 0.882, 0.88, 0.879, 0.879]\n",
      "512\n",
      "./batch_size_0.9/res_ml100k_512.txt\n",
      "[0.889, 0.884, 0.881, 0.879, 0.878, 0.879]\n",
      "256\n",
      "./batch_size_0.9/res_ml100k_256.txt\n",
      "[0.894, 0.89, 0.888, 0.886, 0.886, 0.885]\n",
      "128\n",
      "./batch_size_0.9/res_ml100k_128.txt\n",
      "[0.907, 0.906, 0.905, 0.904, 0.904, 0.904]\n"
     ]
    }
   ],
   "source": [
    "rmses = []\n",
    "for i in [1024,512,256,128]:\n",
    "    print(i)\n",
    "    rmse_l = []\n",
    "    path = './batch_size_0.9/res_ml100k_'+str(i)+'.txt'\n",
    "    print(path)\n",
    "    rmse_l = getrmse_list(path)\n",
    "    print(rmse_l)\n",
    "    rmses.append(rmse_l)"
   ]
  },
  {
   "cell_type": "code",
   "execution_count": 9,
   "metadata": {},
   "outputs": [
    {
     "data": {
      "text/plain": [
       "[[0.892, 0.886, 0.882, 0.88, 0.879, 0.879],\n",
       " [0.889, 0.884, 0.881, 0.879, 0.878, 0.879],\n",
       " [0.894, 0.89, 0.888, 0.886, 0.886, 0.885],\n",
       " [0.907, 0.906, 0.905, 0.904, 0.904, 0.904]]"
      ]
     },
     "execution_count": 9,
     "metadata": {},
     "output_type": "execute_result"
    }
   ],
   "source": [
    "rmses"
   ]
  },
  {
   "cell_type": "code",
   "execution_count": 10,
   "metadata": {},
   "outputs": [
    {
     "data": {
      "text/plain": [
       "[[0.892, 0.886, 0.882, 0.88, 0.879, 0.879],\n",
       " [0.889, 0.884, 0.881, 0.879, 0.878, 0.879],\n",
       " [0.894, 0.89, 0.888, 0.886, 0.886, 0.885],\n",
       " [0.907, 0.906, 0.905, 0.904, 0.904, 0.904]]"
      ]
     },
     "execution_count": 10,
     "metadata": {},
     "output_type": "execute_result"
    }
   ],
   "source": [
    "rmses"
   ]
  },
  {
   "cell_type": "code",
   "execution_count": 12,
   "metadata": {},
   "outputs": [
    {
     "data": {
      "image/png": "[encoded data removed]",
      "text/plain": [
       "<Figure size 216x162 with 1 Axes>"
      ]
     },
     "metadata": {},
     "output_type": "display_data"
    }
   ],
   "source": [
    "font2 = {'family': 'Times New Roman',\n",
    "         'weight': 'normal',\n",
    "         'size': 9,\n",
    "         }\n",
    "font1 = {'family': 'Times New Roman',\n",
    "         'weight': 'normal',\n",
    "         'size': 8,\n",
    "         }\n",
    "# def figure(p1):\n",
    "plt.style.use('ggplot')\n",
    "fig = plt.figure(figsize=(3, 2.25))\n",
    "plt.plot(rmses[0],label='batch size=1024',marker='o',markersize=3)\n",
    "plt.plot(rmses[1],label='batch size=512',marker='*',markersize=3)\n",
    "plt.plot(rmses[2],label='batch size=256',marker='s',markersize=3)\n",
    "plt.plot(rmses[3],label='batch size=128',marker='v',markersize=3)\n",
    "\n",
    "# plt.plot(rmses[4],label='hidden_latent=50',marker='^',markersize=3)\n",
    "# plt.plot(rmses[5],label='hidden_latent=60',marker='+',markersize=3)\n",
    "# plt.plot(rmses[6],label='hidden_latent=70',marker='o',markersize=3,color='red')\n",
    "\n",
    "plt.xlabel('Epoch',font2)\n",
    "plt.ylabel('RMSE',font2)\n",
    "plt.xticks([0,1,2,3,4,5], ('10','14','18','22','26','30'),fontsize=8)\n",
    "plt.yticks(fontsize=8)\n",
    "plt.ylim([0.875,0.91])\n",
    "plt.legend( prop=font2,loc = 'upper right')\n",
    "# frame.set_facecolor('none')\n",
    "plt.savefig('100k_0.9_bs.png',dpi=300,bbox_inches = 'tight')\n",
    "plt.show()"
   ]
  }
 ],
 "metadata": {
  "kernelspec": {
   "display_name": "Python 3",
   "language": "python",
   "name": "python3"
  },
  "language_info": {
   "codemirror_mode": {
    "name": "ipython",
    "version": 3
   },
   "file_extension": ".py",
   "mimetype": "text/x-python",
   "name": "python",
   "nbconvert_exporter": "python",
   "pygments_lexer": "ipython3",
   "version": "3.6.5"
  }
 },
 "nbformat": 4,
 "nbformat_minor": 2
}
