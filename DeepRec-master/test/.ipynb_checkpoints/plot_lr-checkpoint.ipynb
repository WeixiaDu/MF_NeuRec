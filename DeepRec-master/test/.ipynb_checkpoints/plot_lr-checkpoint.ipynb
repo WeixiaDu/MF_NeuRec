{
 "cells": [
  {
   "cell_type": "code",
   "execution_count": 19,
   "metadata": {},
   "outputs": [],
   "source": [
    "import matplotlib.pyplot as plt\n",
    "from pylab import mpl, text\n",
    "from matplotlib.font_manager import FontProperties\n",
    "import numpy as np \n",
    "\n",
    "simsun = FontProperties(fname=r'C:\\Windows\\Fonts\\simsun.ttc', size=7) # 宋体\n",
    "roman = FontProperties(fname=r'C:\\Windows\\Fonts\\times.ttf', size=7) # Times new roman\n",
    "mpl.rcParams['font.sans-serif'] = ['FangSong']\n",
    "fontcn = {'family': 'SimSun','size': 7} # 1pt = 4/3px\n",
    "fonten = {'family':'Times New Roman','size': 7}"
   ]
  },
  {
   "cell_type": "code",
   "execution_count": 2,
   "metadata": {},
   "outputs": [],
   "source": [
    "def getrmse_list(path):\n",
    "    rmse_list = []\n",
    "    with open(path,'r') as f:\n",
    "        for line in f.readlines():\n",
    "    #         print(line)\n",
    "            rmse = float(line.split(';')[0].split('RMSE: ')[1])\n",
    "    #         print(type(rmse))\n",
    "    #         print(rmse)\n",
    "            rmse_list.append(rmse)\n",
    "        return rmse_list[10:100:10]"
   ]
  },
  {
   "cell_type": "code",
   "execution_count": 3,
   "metadata": {
    "scrolled": true
   },
   "outputs": [
    {
     "name": "stdout",
     "output_type": "stream",
     "text": [
      "1\n",
      "./ml_l00k_lr_0.9/res_ml100k_0.001.txt\n",
      "[0.924, 0.909, 0.902, 0.898, 0.895, 0.893, 0.891, 0.89, 0.888]\n",
      "3\n",
      "./ml_l00k_lr_0.9/res_ml100k_0.003.txt\n",
      "[0.901, 0.892, 0.888, 0.886, 0.884, 0.884, 0.883, 0.883, 0.883]\n",
      "5\n",
      "./ml_l00k_lr_0.9/res_ml100k_0.005.txt\n",
      "[0.894, 0.888, 0.885, 0.884, 0.884, 0.883, 0.884, 0.885, 0.883]\n"
     ]
    }
   ],
   "source": [
    "rmses = []\n",
    "for i in [1,3,5]:\n",
    "    print(i)\n",
    "    rmse_l = []\n",
    "    path = './ml_l00k_lr_0.9/res_ml100k_0.00'+str(i)+'.txt'\n",
    "    print(path)\n",
    "    rmse_l = getrmse_list(path)\n",
    "    print(rmse_l)\n",
    "    rmses.append(rmse_l)"
   ]
  },
  {
   "cell_type": "code",
   "execution_count": 4,
   "metadata": {},
   "outputs": [],
   "source": [
    "# rmse_l = getrmse_list('./ml_l00k_lr_0.9/res_ml100k_0.01.txt')\n",
    "# rmses.append(rmse_l)"
   ]
  },
  {
   "cell_type": "code",
   "execution_count": 5,
   "metadata": {},
   "outputs": [
    {
     "data": {
      "text/plain": [
       "(9, 4)"
      ]
     },
     "execution_count": 5,
     "metadata": {},
     "output_type": "execute_result"
    }
   ],
   "source": [
    "len(rmses[0]),len(rmses)"
   ]
  },
  {
   "cell_type": "code",
   "execution_count": 20,
   "metadata": {
    "scrolled": true
   },
   "outputs": [
    {
     "data": {
      "image/png": "[encoded data removed]",
      "text/plain": [
       "<Figure size 216x162 with 1 Axes>"
      ]
     },
     "metadata": {},
     "output_type": "display_data"
    }
   ],
   "source": [
    "font2 = {'family': 'Times New Roman',\n",
    "         'weight': 'normal',\n",
    "         'size': 5,\n",
    "         }\n",
    "font1 = {\n",
    "         'weight': 'normal',\n",
    "         'size': 5,\n",
    "         }\n",
    "# def figure(p1):\n",
    "# plt.style.use('ggplot')\n",
    "fig = plt.figure(figsize=(3, 2.25))\n",
    "plt.plot(rmses[0],label='lr=0.001',marker='o',markersize=3)\n",
    "plt.plot(rmses[1],label='lr=0.003',marker='*',markersize=3)\n",
    "plt.plot(rmses[2],label='lr=0.005',marker='s',markersize=3)\n",
    "# plt.plot(rmses[3],label='lr=0.01',marker='v',markersize=3)\n",
    "# plt.plot(rmses[4],label='hidden_latent=50',marker='^',markersize=3)\n",
    "# plt.plot(rmses[5],label='hidden_latent=60',marker='+',markersize=3)\n",
    "# plt.plot(rmses[6],label='hidden_latent=70',marker='o',markersize=3,color='red')\n",
    "plt.xlabel(u'迭代次数',font1)\n",
    "plt.ylabel('RMSE',font2)\n",
    "plt.xticks([0,1,2,3,4,5,6,7,8], ('10','20','30','40','50','60','70','80','90'),fontsize=5)\n",
    "plt.yticks(fontsize=5)\n",
    "plt.ylim([0.88,0.93])\n",
    "plt.legend(prop=font2)\n",
    "plt.savefig('100k_0.9_lr.png',dpi=300,bbox_inches = 'tight')\n",
    "plt.show()"
   ]
  },
  {
   "cell_type": "code",
   "execution_count": 6,
   "metadata": {},
   "outputs": [],
   "source": [
    "def getrmse_list1(path):\n",
    "    rmse_list = []\n",
    "    with open(path,'r') as f:\n",
    "        for line in f.readlines():\n",
    "    #         print(line)\n",
    "            rmse = float(line.split(';')[0].split('RMSE: ')[1])\n",
    "    #         print(type(rmse))\n",
    "    #         print(rmse)\n",
    "            rmse_list.append(rmse)\n",
    "        return rmse_list[10:55:5]"
   ]
  },
  {
   "cell_type": "code",
   "execution_count": 7,
   "metadata": {},
   "outputs": [
    {
     "name": "stdout",
     "output_type": "stream",
     "text": [
      "1\n",
      "./ml_l00k_lr_0.5/res_ml1m_0.001.txt\n",
      "[0.954, 0.94, 0.934, 0.93, 0.927, 0.925, 0.923, 0.922, 0.921]\n",
      "3\n",
      "./ml_l00k_lr_0.5/res_ml1m_0.003.txt\n",
      "[0.925, 0.92, 0.917, 0.916, 0.916, 0.915, 0.915, 0.915, 0.915]\n",
      "5\n",
      "./ml_l00k_lr_0.5/res_ml1m_0.005.txt\n",
      "[0.918, 0.916, 0.915, 0.915, 0.915, 0.915, 0.916, 0.917, 0.917]\n"
     ]
    }
   ],
   "source": [
    "\n",
    "rmses = []\n",
    "for i in [1,3,5]:\n",
    "    print(i)\n",
    "    rmse_l = []\n",
    "    path = './ml_l00k_lr_0.5/res_ml1m_0.00'+str(i)+'.txt'\n",
    "    print(path)\n",
    "    rmse_l = getrmse_list1(path)\n",
    "    print(rmse_l)\n",
    "    rmses.append(rmse_l)"
   ]
  },
  {
   "cell_type": "code",
   "execution_count": 21,
   "metadata": {},
   "outputs": [
    {
     "data": {
      "image/png": "[encoded data removed]",
      "text/plain": [
       "<Figure size 216x162 with 1 Axes>"
      ]
     },
     "metadata": {},
     "output_type": "display_data"
    }
   ],
   "source": [
    "font3 = {'family': 'Times New Roman',\n",
    "         'weight': 'normal',\n",
    "         'size':7,\n",
    "         }\n",
    "# def figure(p1):\n",
    "# plt.style.use('ggplot')\n",
    "fig = plt.figure(figsize=(3, 2.25))\n",
    "plt.plot(rmses[0],label='lr=0.001',marker='o',markersize=3)\n",
    "plt.plot(rmses[1],label='lr=0.003',marker='*',markersize=3)\n",
    "plt.plot(rmses[2],label='lr=0.005',marker='s',markersize=3)\n",
    "# plt.plot(rmses[3],label='lr=0.01',marker='v',markersize=3)\n",
    "# plt.plot(rmses[4],label='hidden_latent=50',marker='^',markersize=3)\n",
    "# plt.plot(rmses[5],label='hidden_latent=60',marker='+',markersize=3)\n",
    "# plt.plot(rmses[6],label='hidden_latent=70',marker='o',markersize=3,color='red')\n",
    "\n",
    "plt.xlabel(u'迭代次数')\n",
    "plt.ylabel('RMSE')\n",
    "plt.xticks([0,1,2,3,4,5,6,7,8], ('10','15','20','25','30','35','40','45','50'),fontsize=7)\n",
    "plt.yticks(fontsize=7)\n",
    "plt.ylim([0.91,0.95])\n",
    "plt.legend()\n",
    "plt.savefig('100k_0.5_lr.png',dpi=300,bbox_inches = 'tight')\n",
    "plt.show()"
   ]
  }
 ],
 "metadata": {
  "kernelspec": {
   "display_name": "Python 3",
   "language": "python",
   "name": "python3"
  },
  "language_info": {
   "codemirror_mode": {
    "name": "ipython",
    "version": 3
   },
   "file_extension": ".py",
   "mimetype": "text/x-python",
   "name": "python",
   "nbconvert_exporter": "python",
   "pygments_lexer": "ipython3",
   "version": "3.6.5"
  }
 },
 "nbformat": 4,
 "nbformat_minor": 2
}
