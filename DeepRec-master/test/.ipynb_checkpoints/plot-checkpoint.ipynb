{
 "cells": [
  {
   "cell_type": "code",
   "execution_count": 12,
   "metadata": {},
   "outputs": [],
   "source": [
    "import matplotlib.pyplot as plt\n",
    "import os\n"
   ]
  },
  {
   "cell_type": "code",
   "execution_count": 13,
   "metadata": {},
   "outputs": [],
   "source": [
    "# ./ml_100k_0.9/res_ml100k_10.txt\n",
    "def getrmse_list(path):\n",
    "    rmse_list = []\n",
    "    with open(path,'r') as f:\n",
    "        for line in f.readlines():\n",
    "    #         print(line)\n",
    "            rmse = float(line.split(';')[0].split('RMSE: ')[1])\n",
    "    #         print(type(rmse))\n",
    "    #         print(rmse)\n",
    "            rmse_list.append(rmse)\n",
    "        return rmse_list[10:100:10]"
   ]
  },
  {
   "cell_type": "code",
   "execution_count": 14,
   "metadata": {},
   "outputs": [
    {
     "name": "stdout",
     "output_type": "stream",
     "text": [
      "10\n",
      "./ml_100k_0.9/res_ml100k_10.txt\n",
      "[0.923, 0.912, 0.907, 0.904, 0.902, 0.901, 0.899, 0.898, 0.898]\n",
      "20\n",
      "./ml_100k_0.9/res_ml100k_20.txt\n",
      "[0.916, 0.904, 0.899, 0.896, 0.894, 0.893, 0.893, 0.892, 0.891]\n",
      "30\n",
      "./ml_100k_0.9/res_ml100k_30.txt\n",
      "[0.905, 0.896, 0.892, 0.89, 0.889, 0.888, 0.887, 0.887, 0.886]\n",
      "40\n",
      "./ml_100k_0.9/res_ml100k_40.txt\n",
      "[0.909, 0.899, 0.895, 0.893, 0.893, 0.892, 0.891, 0.891, 0.89]\n",
      "50\n",
      "./ml_100k_0.9/res_ml100k_50.txt\n",
      "[0.899, 0.891, 0.887, 0.886, 0.884, 0.884, 0.884, 0.884, 0.884]\n",
      "60\n",
      "./ml_100k_0.9/res_ml100k_60.txt\n",
      "[0.901, 0.892, 0.888, 0.886, 0.885, 0.884, 0.883, 0.883, 0.883]\n",
      "70\n",
      "./ml_100k_0.9/res_ml100k_70.txt\n",
      "[0.899, 0.892, 0.888, 0.886, 0.885, 0.884, 0.884, 0.884, 0.883]\n"
     ]
    }
   ],
   "source": [
    "rmses = []\n",
    "for i in range(10,80,10):\n",
    "    print(i)\n",
    "    rmse_l = []\n",
    "    path = './ml_100k_0.9/res_ml100k_'+str(i)+'.txt'\n",
    "    print(path)\n",
    "    rmse_l = getrmse_list(path)\n",
    "    print(rmse_l)\n",
    "    rmses.append(rmse_l)"
   ]
  },
  {
   "cell_type": "code",
   "execution_count": 15,
   "metadata": {},
   "outputs": [],
   "source": [
    "# rmse_0 = rmses"
   ]
  },
  {
   "cell_type": "code",
   "execution_count": 62,
   "metadata": {
    "scrolled": true
   },
   "outputs": [
    {
     "data": {
      "image/png": "[encoded data removed]",
      "text/plain": [
       "<Figure size 216x162 with 1 Axes>"
      ]
     },
     "metadata": {},
     "output_type": "display_data"
    }
   ],
   "source": [
    "font2 = {'family': 'Times New Roman',\n",
    "         'weight': 'normal',\n",
    "         'size': 9,\n",
    "         }\n",
    "font1 = {'family': 'Times New Roman',\n",
    "         'weight': 'normal',\n",
    "         'size': 8,\n",
    "         }\n",
    "# def figure(p1):\n",
    "plt.style.use('ggplot')\n",
    "fig = plt.figure(figsize=(3, 2.25))\n",
    "plt.plot(rmses[0],label='latent=10',marker='o',markersize=3)\n",
    "plt.plot(rmses[1],label='latent=20',marker='*',markersize=3)\n",
    "plt.plot(rmses[2],label='latent=30',marker='s',markersize=3)\n",
    "plt.plot(rmses[3],label='latent=40',marker='v',markersize=3)\n",
    "plt.plot(rmses[4],label='latent=50',marker='^',markersize=3)\n",
    "plt.plot(rmses[5],label='latent=60',marker='+',markersize=3)\n",
    "plt.plot(rmses[6],label='latent=70',marker='o',markersize=3,color='red')\n",
    "\n",
    "plt.xlabel('Epoch',font2)\n",
    "plt.ylabel('RMSE',font2)\n",
    "plt.xticks([0,1,2,3,4,5,6,7,8], ('10','20','30','40','50','60','70','80','90'),fontsize=8)\n",
    "plt.yticks(fontsize=8)\n",
    "plt.ylim([0.88,0.93])\n",
    "plt.legend(prop=font1)\n",
    "plt.savefig('100k_0.9.png',dpi=2800,bbox_inches = 'tight')\n",
    "plt.show()"
   ]
  },
  {
   "cell_type": "code",
   "execution_count": 63,
   "metadata": {},
   "outputs": [],
   "source": [
    "# ./ml_100k_0.9/res_ml100k_10.txt\n",
    "def getrmse_list1(path):\n",
    "    rmse_list = []\n",
    "    with open(path,'r') as f:\n",
    "        for line in f.readlines():\n",
    "    #         print(line)\n",
    "            rmse = float(line.split(';')[0].split('RMSE: ')[1])\n",
    "    #         print(type(rmse))\n",
    "    #         print(rmse)\n",
    "            rmse_list.append(rmse)\n",
    "        return rmse_list[10:60:5]"
   ]
  },
  {
   "cell_type": "code",
   "execution_count": 64,
   "metadata": {},
   "outputs": [
    {
     "name": "stdout",
     "output_type": "stream",
     "text": [
      "10\n",
      "./ml_100k_0.5/res_ml100k_10.txt\n",
      "[0.948, 0.942, 0.938, 0.935, 0.933, 0.931, 0.93, 0.929]\n",
      "20\n",
      "./ml_100k_0.5/res_ml100k_20.txt\n",
      "[0.94, 0.934, 0.93, 0.927, 0.925, 0.923, 0.922, 0.922]\n",
      "30\n",
      "./ml_100k_0.5/res_ml100k_30.txt\n",
      "[0.929, 0.923, 0.921, 0.919, 0.918, 0.918, 0.918, 0.918]\n",
      "40\n",
      "./ml_100k_0.5/res_ml100k_40.txt\n",
      "[0.938, 0.932, 0.929, 0.927, 0.925, 0.924, 0.924, 0.924]\n",
      "50\n",
      "./ml_100k_0.5/res_ml100k_50.txt\n",
      "[0.926, 0.92, 0.917, 0.916, 0.915, 0.915, 0.915, 0.915]\n",
      "60\n",
      "./ml_100k_0.5/res_ml100k_60.txt\n",
      "[0.926, 0.92, 0.918, 0.916, 0.916, 0.915, 0.915, 0.915]\n",
      "70\n",
      "./ml_100k_0.5/res_ml100k_70.txt\n",
      "[0.923, 0.918, 0.916, 0.915, 0.915, 0.915, 0.915, 0.915]\n"
     ]
    }
   ],
   "source": [
    "rmses1 = []\n",
    "for i in range(10,80,10):\n",
    "    print(i)\n",
    "    rmse_l1 = []\n",
    "    path = './ml_100k_0.5/res_ml100k_'+str(i)+'.txt'\n",
    "    print(path)\n",
    "    rmse_l1 = getrmse_list1(path)\n",
    "    print(rmse_l1)\n",
    "    rmses1.append(rmse_l1)"
   ]
  },
  {
   "cell_type": "code",
   "execution_count": 65,
   "metadata": {},
   "outputs": [
    {
     "data": {
      "text/plain": [
       "8"
      ]
     },
     "execution_count": 65,
     "metadata": {},
     "output_type": "execute_result"
    }
   ],
   "source": [
    "len(rmses1[0])"
   ]
  },
  {
   "cell_type": "code",
   "execution_count": 66,
   "metadata": {
    "scrolled": true
   },
   "outputs": [
    {
     "data": {
      "text/plain": [
       "[[0.948, 0.942, 0.938, 0.935, 0.933, 0.931, 0.93, 0.929],\n",
       " [0.94, 0.934, 0.93, 0.927, 0.925, 0.923, 0.922, 0.922],\n",
       " [0.929, 0.923, 0.921, 0.919, 0.918, 0.918, 0.918, 0.918],\n",
       " [0.938, 0.932, 0.929, 0.927, 0.925, 0.924, 0.924, 0.924],\n",
       " [0.926, 0.92, 0.917, 0.916, 0.915, 0.915, 0.915, 0.915],\n",
       " [0.926, 0.92, 0.918, 0.916, 0.916, 0.915, 0.915, 0.915],\n",
       " [0.923, 0.918, 0.916, 0.915, 0.915, 0.915, 0.915, 0.915]]"
      ]
     },
     "execution_count": 66,
     "metadata": {},
     "output_type": "execute_result"
    }
   ],
   "source": [
    "rmses1"
   ]
  },
  {
   "cell_type": "code",
   "execution_count": 67,
   "metadata": {},
   "outputs": [
    {
     "data": {
      "text/plain": [
       "[0.948, 0.942, 0.938, 0.935, 0.933, 0.931, 0.93, 0.929]"
      ]
     },
     "execution_count": 67,
     "metadata": {},
     "output_type": "execute_result"
    }
   ],
   "source": [
    "rmses1[0]"
   ]
  },
  {
   "cell_type": "code",
   "execution_count": 73,
   "metadata": {},
   "outputs": [
    {
     "data": {
      "image/png": "[encoded data removed]",
      "text/plain": [
       "<Figure size 216x162 with 1 Axes>"
      ]
     },
     "metadata": {},
     "output_type": "display_data"
    }
   ],
   "source": [
    "font2 = {'family': 'Times New Roman',\n",
    "         'weight': 'normal',\n",
    "         'size': 9,\n",
    "         }\n",
    "font1 = {'family': 'Times New Roman',\n",
    "         'weight': 'normal',\n",
    "         'size': 8,\n",
    "         }\n",
    "# def figure(p1):\n",
    "plt.style.use('ggplot')\n",
    "fig = plt.figure(figsize=(3, 2.25))\n",
    "plt.plot(rmses1[0],label='latent=10',marker='o',markersize=3)\n",
    "plt.plot(rmses1[1],label='latent=20',marker='*',markersize=3)\n",
    "plt.plot(rmses1[2],label='latent=30',marker='s',markersize=3)\n",
    "plt.plot(rmses1[3],label='latent=40',marker='v',markersize=3)\n",
    "plt.plot(rmses1[4],label='latent=50',marker='^',markersize=3)\n",
    "plt.plot(rmses1[5],label='latent=60',marker='+',markersize=3)\n",
    "plt.plot(rmses1[6],label='latent=70',marker='o',markersize=3,color='red')\n",
    "\n",
    "plt.xlabel('Epoch',font2)\n",
    "plt.ylabel('RMSE',font2)\n",
    "plt.xticks([0,1,2,3,4,5,6,7], ('15','20','25','30','35','40','45','50'),fontsize=8)\n",
    "plt.yticks(fontsize=8)\n",
    "plt.ylim([0.91,0.95])\n",
    "plt.legend(prop=font1,loc='upper right')\n",
    "plt.savefig('100k_0.5.png',dpi=2800,bbox_inches = 'tight')\n",
    "plt.show()"
   ]
  }
 ],
 "metadata": {
  "kernelspec": {
   "display_name": "Python 3",
   "language": "python",
   "name": "python3"
  },
  "language_info": {
   "codemirror_mode": {
    "name": "ipython",
    "version": 3
   },
   "file_extension": ".py",
   "mimetype": "text/x-python",
   "name": "python",
   "nbconvert_exporter": "python",
   "pygments_lexer": "ipython3",
   "version": "3.6.5"
  }
 },
 "nbformat": 4,
 "nbformat_minor": 2
}
