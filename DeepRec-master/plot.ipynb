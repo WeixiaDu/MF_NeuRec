{
 "cells": [
  {
   "cell_type": "code",
   "execution_count": 17,
   "metadata": {},
   "outputs": [],
   "source": [
    "font2 = {'family': 'Times New Roman',\n",
    "         'weight': 'normal',\n",
    "         'size': 8,\n",
    "         }"
   ]
  },
  {
   "cell_type": "code",
   "execution_count": 42,
   "metadata": {},
   "outputs": [
    {
     "name": "stderr",
     "output_type": "stream",
     "text": [
      "c:\\users\\qiuyujia\\appdata\\local\\programs\\python\\python36\\lib\\site-packages\\matplotlib\\__init__.py:1855: MatplotlibDeprecationWarning: The *left* kwarg to `bar` is deprecated use *x* instead. Support for *left* will be removed in Matplotlib 3.0\n",
      "  return func(ax, *args, **kwargs)\n"
     ]
    },
    {
     "data": {
      "image/png": "[encoded data removed]",
      "text/plain": [
       "<Figure size 432x288 with 1 Axes>"
      ]
     },
     "metadata": {},
     "output_type": "display_data"
    }
   ],
   "source": [
    "import matplotlib.pyplot as plt\n",
    "import matplotlib\n",
    "# 设置中文字体和负号正常显示\n",
    "# matplotlib.rcParams['font.sans-serif'] = ['SimHei']\n",
    "# matplotlib.rcParams['axes.unicode_minus'] = False\n",
    "\n",
    "label_list = ['Biasd FM', 'PMF', 'SVD++', 'AutoSVD','AutoSVD++','MF_NeuRec']    # 横坐标刻度显示值\n",
    "num_list1 = [0.911, 0.952, 0.913, 0.901,0.904,0.896]      # 纵坐标值1\n",
    "num_list2 = [0.936, 0.977, 0.938, 0.925,0.926,0.920]      # 纵坐标值2\n",
    "x = range(len(num_list1))\n",
    "\"\"\"\n",
    "绘制条形图\n",
    "left:长条形中点横坐标\n",
    "height:长条形高度\n",
    "width:长条形宽度，默认值0.8\n",
    "label:为后面设置legend准备\n",
    "\"\"\"\n",
    "rects1 = plt.bar(left=x, height=num_list1, width=0.2, alpha=0.8, label=\"ml-100k 0.9\")\n",
    "rects2 = plt.bar(left=[i + 0.2 for i in x], height=num_list2, width=0.2, label=\"ml-100k 0.5\")\n",
    "plt.yticks(fontsize=8)\n",
    "plt.ylim(0.85, 1)     # y轴取值范围\n",
    "plt.ylabel(\"RMSE\",font2)\n",
    "\"\"\"\n",
    "设置x轴刻度显示值\n",
    "参数一：中点坐标\n",
    "参数二：显示值\n",
    "\"\"\"\n",
    "plt.style.use('ggplot')\n",
    "plt.xticks([index + 0.2 for index in x], label_list,fontsize=8)\n",
    "plt.xlabel(\"Algorithm\",font2)\n",
    "# plt.title(\"某某公司\")\n",
    "plt.legend(fontsize=8)     # 设置题注\n",
    "# plt.xticks(x, calendar.month_name[1:13],color='blue',rotation=60)#此处locs参数与X值数组相同\n",
    "plt.savefig('./ml-100k',dpi=2800,bbox_inches = 'tight')\n",
    "plt.show()\n"
   ]
  },
  {
   "cell_type": "code",
   "execution_count": 47,
   "metadata": {},
   "outputs": [
    {
     "name": "stderr",
     "output_type": "stream",
     "text": [
      "c:\\users\\qiuyujia\\appdata\\local\\programs\\python\\python36\\lib\\site-packages\\matplotlib\\__init__.py:1855: MatplotlibDeprecationWarning: The *left* kwarg to `bar` is deprecated use *x* instead. Support for *left* will be removed in Matplotlib 3.0\n",
      "  return func(ax, *args, **kwargs)\n"
     ]
    },
    {
     "data": {
      "image/png": "[encoded data removed]",
      "text/plain": [
       "<Figure size 432x288 with 1 Axes>"
      ]
     },
     "metadata": {},
     "output_type": "display_data"
    }
   ],
   "source": [
    "label_list = ['Biasd FM', 'PMF','U-AutoRec', 'SVD++', 'AutoSVD','AutoSVD++','MF_NeuRec']    # 横坐标刻度显示值\n",
    "num_list1 = [0.876, 0.883, 0.874, 0.855,0.864,0.848,0.843]      # 纵坐标值1\n",
    "num_list2 = [0.889, 0.890, 0.911, 0.884,0.877,0.875,0.869]      # 纵坐标值2\n",
    "x = range(len(num_list1))\n",
    "\"\"\"\n",
    "绘制条形图\n",
    "left:长条形中点横坐标\n",
    "height:长条形高度\n",
    "width:长条形宽度，默认值0.8\n",
    "label:为后面设置legend准备\n",
    "\"\"\"\n",
    "rects1 = plt.bar(left=x, height=num_list1, width=0.2, alpha=0.8, label=\"ml-100k 0.9\")\n",
    "rects2 = plt.bar(left=[i + 0.2 for i in x], height=num_list2, width=0.2, label=\"ml-100k 0.5\")\n",
    "plt.yticks(fontsize=8)\n",
    "plt.ylim(0.80, 0.94)     # y轴取值范围\n",
    "plt.ylabel(\"RMSE\",font2)\n",
    "\"\"\"\n",
    "设置x轴刻度显示值\n",
    "参数一：中点坐标\n",
    "参数二：显示值\n",
    "\"\"\"\n",
    "plt.style.use('ggplot')\n",
    "plt.xticks([index + 0.2 for index in x], label_list,fontsize=8)\n",
    "plt.xlabel(\"Algorithm\",font2)\n",
    "# plt.title(\"某某公司\")\n",
    "plt.legend(fontsize=8)     # 设置题注\n",
    "# plt.xticks(x, calendar.month_name[1:13],color='blue',rotation=60)#此处locs参数与X值数组相同\n",
    "plt.savefig('./ml-1m',dpi=2800,bbox_inches = 'tight')\n",
    "plt.show()\n"
   ]
  }
 ],
 "metadata": {
  "kernelspec": {
   "display_name": "Python 3",
   "language": "python",
   "name": "python3"
  },
  "language_info": {
   "codemirror_mode": {
    "name": "ipython",
    "version": 3
   },
   "file_extension": ".py",
   "mimetype": "text/x-python",
   "name": "python",
   "nbconvert_exporter": "python",
   "pygments_lexer": "ipython3",
   "version": "3.6.5"
  }
 },
 "nbformat": 4,
 "nbformat_minor": 2
}
